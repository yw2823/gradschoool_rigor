{
  "nbformat": 4,
  "nbformat_minor": 0,
  "metadata": {
    "colab": {
      "provenance": []
    },
    "kernelspec": {
      "name": "python3",
      "display_name": "Python 3"
    },
    "language_info": {
      "name": "python"
    }
  },
  "cells": [
    {
      "cell_type": "code",
      "execution_count": 1,
      "metadata": {
        "colab": {
          "base_uri": "https://localhost:8080/"
        },
        "id": "apnN8n0qJEpr",
        "outputId": "09401e44-6dec-40b5-aa75-9f9cc710cbf7"
      },
      "outputs": [
        {
          "output_type": "stream",
          "name": "stdout",
          "text": [
            "10\n"
          ]
        }
      ],
      "source": [
        "print(2*5)"
      ]
    },
    {
      "cell_type": "code",
      "source": [
        "from datetime import datetime\n",
        "\n",
        "today = datetime.today()\n",
        "\n",
        "print(today.strftime(\"%Y-%m-%d\"))\n"
      ],
      "metadata": {
        "colab": {
          "base_uri": "https://localhost:8080/"
        },
        "id": "eJghLmdWKRPH",
        "outputId": "4e7fe669-c736-4058-ce8e-e29811d91e9a"
      },
      "execution_count": 7,
      "outputs": [
        {
          "output_type": "stream",
          "name": "stdout",
          "text": [
            "2024-10-30\n"
          ]
        }
      ]
    },
    {
      "cell_type": "markdown",
      "source": [
        "# Reflection\n"
      ],
      "metadata": {
        "id": "g_AffPKlK0vP"
      }
    },
    {
      "cell_type": "markdown",
      "source": [
        "Using repositories can enhance computational reproducibility because other people can now replicate your findings by using your data and method. Researchers can upload various types of files to repositories, including code, documents, and data. <br> Using Git, researchers can track changes made to their codes overtime, including changes made by themselves and their collaborators. In this way, everyone who contributes to the project has a clear idea on how the analysis workflow evolves overtime. <br>Publishing on GitHub makes tools and workflows for computational analysis accessible to everyone, including collaborators and general audience. It also allows publisher to have the opportunity to update their codes and add descriptional README files to better facilitate people with limited coding experience to understand how to use the code and what the code is trying to do.\n",
        "\n",
        "\n"
      ],
      "metadata": {
        "id": "LCsoT4RoKWDl"
      }
    }
  ]
}